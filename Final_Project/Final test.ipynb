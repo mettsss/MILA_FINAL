{
 "cells": [
  {
   "cell_type": "code",
   "execution_count": 1,
   "metadata": {},
   "outputs": [
    {
     "name": "stdout",
     "output_type": "stream",
     "text": [
      "cuda:0\n"
     ]
    }
   ],
   "source": [
    "from ghostnet.ghost_net import ghost_net\n",
    "# from keras.datasets import mnist\n",
    "import pandas as pd\n",
    "import numpy as np\n",
    "import torch\n",
    "from torch.nn.utils.rnn import pack_padded_sequence\n",
    "from torch.utils.data import Dataset\n",
    "from torch.utils.data import DataLoader\n",
    "from torch import nn,optim\n",
    "from torch.autograd import Variable\n",
    "import torch.nn.functional as F\n",
    "import matplotlib.pyplot as plt\n",
    "import SimpleITK as sitk\n",
    "import os\n",
    "\n",
    "# 检验GPU是否可用\n",
    "device = torch.device(\"cuda:0\" if torch.cuda.is_available() else \"cpu\")\n",
    "print(device)"
   ]
  },
  {
   "cell_type": "code",
   "execution_count": 2,
   "metadata": {},
   "outputs": [],
   "source": [
    "def dataLoad(path1, path2):\n",
    "    paths1 = os.listdir(path1)\n",
    "    paths2 = os.listdir(path2)\n",
    "    dataset = []\n",
    "    labelset = []\n",
    "    \n",
    "    for file in paths1:\n",
    "        if file.find('mhd')>=0:\n",
    "            filepath = os.path.join(path1, file)\n",
    "            data = sitk.GetArrayFromImage(sitk.ReadImage(filepath))\n",
    "            data = data.reshape((1,256,256))\n",
    "            dataset.append(data)\n",
    "            labelset.append(1)\n",
    "            \n",
    "    for file in paths2:\n",
    "        if file.find('mhd')>=0:\n",
    "            filepath = os.path.join(path2, file)\n",
    "            data = sitk.GetArrayFromImage(sitk.ReadImage(filepath))\n",
    "            data = data.reshape((1,256,256))\n",
    "            dataset.append(data)\n",
    "            labelset.append(0)\n",
    "        \n",
    "    dataset = np.array(dataset)\n",
    "    labelset = np.array(labelset)\n",
    "    return dataset, labelset"
   ]
  },
  {
   "cell_type": "code",
   "execution_count": 3,
   "metadata": {},
   "outputs": [
    {
     "name": "stdout",
     "output_type": "stream",
     "text": [
      "(378, 1, 256, 256)\n",
      "(50, 1, 256, 256)\n"
     ]
    }
   ],
   "source": [
    "train_data, train_label = dataLoad('Training/Diseased', 'Training/Healthy')\n",
    "test_data, test_label = dataLoad('Testing1/Diseased', 'Testing1/Healthy')\n",
    "\n",
    "print(train_data.shape)\n",
    "print(test_data.shape)\n"
   ]
  },
  {
   "cell_type": "raw",
   "metadata": {},
   "source": [
    "import  tensorflow as  tf\n",
    "\n",
    "#加载cifar-10数据集\n",
    "def dataLoad():\n",
    "    (train_data, train_label), (test_data, test_label) =  tf.keras.datasets.cifar10.load_data()\n",
    "    #数据集进行归一化\n",
    "    train_data=train_data/255\n",
    "    test_data=test_data/255\n",
    "    #将标签数据集从数组类型array修改成整形类型int\n",
    "    train_label.astype(np.int)\n",
    "    test_label.astype(np.int)\n",
    "    return (train_data, train_label), (test_data, test_label)"
   ]
  },
  {
   "cell_type": "raw",
   "metadata": {},
   "source": [
    "(train_data, train_label), (test_data, test_label) = dataLoad()"
   ]
  },
  {
   "cell_type": "code",
   "execution_count": 4,
   "metadata": {},
   "outputs": [],
   "source": [
    "train_data = train_data.reshape((378,1,256,256))\n",
    "test_data = test_data.reshape((-1,1,256,256))\n",
    "train_data = torch.FloatTensor(train_data)\n",
    "test_data = torch.FloatTensor(test_data)\n",
    "train_label = torch.LongTensor(train_label)\n",
    "test_label = torch.LongTensor(test_label)"
   ]
  },
  {
   "cell_type": "code",
   "execution_count": 5,
   "metadata": {},
   "outputs": [
    {
     "data": {
      "text/plain": [
       "torch.Size([50])"
      ]
     },
     "execution_count": 5,
     "metadata": {},
     "output_type": "execute_result"
    }
   ],
   "source": [
    "test_label.shape"
   ]
  },
  {
   "cell_type": "code",
   "execution_count": 6,
   "metadata": {},
   "outputs": [],
   "source": [
    "class MyDataset(Dataset):\n",
    "    \n",
    "    # 初始化\n",
    "    def __init__(self, pics, lable):\n",
    "        # 读入数据\n",
    "        self.data = pics\n",
    "        self.lable = lable\n",
    "        \n",
    "    # 返回df的长度\n",
    "    def __len__(self):\n",
    "        return len(self.data)\n",
    "    \n",
    "    # 获取第idx+1列的数据\n",
    "    def __getitem__(self, idx):\n",
    "        return self.data[idx],self.lable[idx]"
   ]
  },
  {
   "cell_type": "code",
   "execution_count": 7,
   "metadata": {},
   "outputs": [],
   "source": [
    "my_dataset_train = MyDataset(train_data, train_label)\n",
    "my_dataset_test = MyDataset(test_data, test_label)\n",
    "train_loader = DataLoader(dataset = my_dataset_train, batch_size = 8, shuffle = True)\n",
    "test_loader = DataLoader(dataset = my_dataset_test, batch_size = 8, shuffle = True)"
   ]
  },
  {
   "cell_type": "code",
   "execution_count": 8,
   "metadata": {},
   "outputs": [],
   "source": [
    "model = ghost_net(width_mult=1.0,num_classes=2).to(device)\n",
    "# model = Net().to(device)\n",
    "optimizer = optim.Adam(model.parameters(),lr=0.001)  # 优化方式为mini-batch momentum-SGD，并采用L2正则化（权重衰减）\n",
    "criterion = nn.CrossEntropyLoss()"
   ]
  },
  {
   "cell_type": "code",
   "execution_count": 9,
   "metadata": {
    "scrolled": true
   },
   "outputs": [
    {
     "name": "stdout",
     "output_type": "stream",
     "text": [
      "Train Epoch: 0 [80/378 (21%)]\tLoss: 0.378413\n",
      "Train Epoch: 0 [160/378 (42%)]\tLoss: 0.224237\n",
      "Train Epoch: 0 [240/378 (62%)]\tLoss: 0.360527\n",
      "Train Epoch: 0 [320/378 (83%)]\tLoss: 0.172558\n",
      "测试集上准确率为: 76.0 %\n",
      "Train Epoch: 1 [80/378 (21%)]\tLoss: 0.327983\n",
      "Train Epoch: 1 [160/378 (42%)]\tLoss: 0.437496\n",
      "Train Epoch: 1 [240/378 (62%)]\tLoss: 0.385046\n",
      "Train Epoch: 1 [320/378 (83%)]\tLoss: 0.517461\n",
      "测试集上准确率为: 54.0 %\n",
      "Train Epoch: 2 [80/378 (21%)]\tLoss: 0.426350\n",
      "Train Epoch: 2 [160/378 (42%)]\tLoss: 0.328404\n",
      "Train Epoch: 2 [240/378 (62%)]\tLoss: 0.074362\n",
      "Train Epoch: 2 [320/378 (83%)]\tLoss: 0.147389\n",
      "测试集上准确率为: 32.0 %\n",
      "Train Epoch: 3 [80/378 (21%)]\tLoss: 0.934790\n",
      "Train Epoch: 3 [160/378 (42%)]\tLoss: 0.413333\n",
      "Train Epoch: 3 [240/378 (62%)]\tLoss: 0.309151\n",
      "Train Epoch: 3 [320/378 (83%)]\tLoss: 0.419823\n",
      "测试集上准确率为: 74.0 %\n",
      "Train Epoch: 4 [80/378 (21%)]\tLoss: 0.214529\n",
      "Train Epoch: 4 [160/378 (42%)]\tLoss: 0.573270\n",
      "Train Epoch: 4 [240/378 (62%)]\tLoss: 0.592609\n",
      "Train Epoch: 4 [320/378 (83%)]\tLoss: 0.173599\n",
      "测试集上准确率为: 66.0 %\n",
      "Train Epoch: 5 [80/378 (21%)]\tLoss: 0.129501\n",
      "Train Epoch: 5 [160/378 (42%)]\tLoss: 0.144230\n",
      "Train Epoch: 5 [240/378 (62%)]\tLoss: 0.119483\n",
      "Train Epoch: 5 [320/378 (83%)]\tLoss: 0.040867\n",
      "测试集上准确率为: 64.0 %\n",
      "Train Epoch: 6 [80/378 (21%)]\tLoss: 0.133343\n",
      "Train Epoch: 6 [160/378 (42%)]\tLoss: 0.011920\n",
      "Train Epoch: 6 [240/378 (62%)]\tLoss: 0.006533\n",
      "Train Epoch: 6 [320/378 (83%)]\tLoss: 0.114450\n",
      "测试集上准确率为: 66.0 %\n",
      "Train Epoch: 7 [80/378 (21%)]\tLoss: 0.286514\n",
      "Train Epoch: 7 [160/378 (42%)]\tLoss: 0.173215\n",
      "Train Epoch: 7 [240/378 (62%)]\tLoss: 0.066598\n",
      "Train Epoch: 7 [320/378 (83%)]\tLoss: 0.070439\n",
      "测试集上准确率为: 66.0 %\n",
      "Train Epoch: 8 [80/378 (21%)]\tLoss: 0.133316\n",
      "Train Epoch: 8 [160/378 (42%)]\tLoss: 0.171972\n",
      "Train Epoch: 8 [240/378 (62%)]\tLoss: 0.115034\n",
      "Train Epoch: 8 [320/378 (83%)]\tLoss: 0.045518\n",
      "测试集上准确率为: 46.0 %\n",
      "Train Epoch: 9 [80/378 (21%)]\tLoss: 0.035485\n",
      "Train Epoch: 9 [160/378 (42%)]\tLoss: 0.254676\n",
      "Train Epoch: 9 [240/378 (62%)]\tLoss: 0.095586\n",
      "Train Epoch: 9 [320/378 (83%)]\tLoss: 0.154779\n",
      "测试集上准确率为: 64.0 %\n",
      "Train Epoch: 10 [80/378 (21%)]\tLoss: 0.007168\n",
      "Train Epoch: 10 [160/378 (42%)]\tLoss: 0.014117\n",
      "Train Epoch: 10 [240/378 (62%)]\tLoss: 0.120243\n",
      "Train Epoch: 10 [320/378 (83%)]\tLoss: 0.426719\n",
      "测试集上准确率为: 62.0 %\n",
      "Train Epoch: 11 [80/378 (21%)]\tLoss: 0.045331\n",
      "Train Epoch: 11 [160/378 (42%)]\tLoss: 0.819142\n",
      "Train Epoch: 11 [240/378 (62%)]\tLoss: 0.006756\n",
      "Train Epoch: 11 [320/378 (83%)]\tLoss: 0.042463\n",
      "测试集上准确率为: 62.0 %\n",
      "Train Epoch: 12 [80/378 (21%)]\tLoss: 0.043425\n",
      "Train Epoch: 12 [160/378 (42%)]\tLoss: 0.010057\n",
      "Train Epoch: 12 [240/378 (62%)]\tLoss: 0.004045\n",
      "Train Epoch: 12 [320/378 (83%)]\tLoss: 0.038983\n",
      "测试集上准确率为: 72.0 %\n",
      "Train Epoch: 13 [80/378 (21%)]\tLoss: 0.015721\n",
      "Train Epoch: 13 [160/378 (42%)]\tLoss: 0.010490\n",
      "Train Epoch: 13 [240/378 (62%)]\tLoss: 0.070979\n",
      "Train Epoch: 13 [320/378 (83%)]\tLoss: 0.039302\n",
      "测试集上准确率为: 68.0 %\n",
      "Train Epoch: 14 [80/378 (21%)]\tLoss: 0.012378\n",
      "Train Epoch: 14 [160/378 (42%)]\tLoss: 0.047971\n",
      "Train Epoch: 14 [240/378 (62%)]\tLoss: 0.004892\n",
      "Train Epoch: 14 [320/378 (83%)]\tLoss: 0.010889\n",
      "测试集上准确率为: 68.0 %\n",
      "Train Epoch: 15 [80/378 (21%)]\tLoss: 0.000695\n"
     ]
    },
    {
     "ename": "KeyboardInterrupt",
     "evalue": "",
     "output_type": "error",
     "traceback": [
      "\u001b[1;31m---------------------------------------------------------------------------\u001b[0m",
      "\u001b[1;31mKeyboardInterrupt\u001b[0m                         Traceback (most recent call last)",
      "\u001b[1;32m<ipython-input-9-5ce2156337f0>\u001b[0m in \u001b[0;36m<module>\u001b[1;34m\u001b[0m\n\u001b[0;32m     16\u001b[0m         \u001b[0moptimizer\u001b[0m\u001b[1;33m.\u001b[0m\u001b[0mzero_grad\u001b[0m\u001b[1;33m(\u001b[0m\u001b[1;33m)\u001b[0m \u001b[1;31m#这一步可太TM重要了\u001b[0m\u001b[1;33m\u001b[0m\u001b[1;33m\u001b[0m\u001b[0m\n\u001b[0;32m     17\u001b[0m         \u001b[0mloss\u001b[0m\u001b[1;33m.\u001b[0m\u001b[0mbackward\u001b[0m\u001b[1;33m(\u001b[0m\u001b[1;33m)\u001b[0m\u001b[1;33m\u001b[0m\u001b[1;33m\u001b[0m\u001b[0m\n\u001b[1;32m---> 18\u001b[1;33m         \u001b[0moptimizer\u001b[0m\u001b[1;33m.\u001b[0m\u001b[0mstep\u001b[0m\u001b[1;33m(\u001b[0m\u001b[1;33m)\u001b[0m\u001b[1;33m\u001b[0m\u001b[1;33m\u001b[0m\u001b[0m\n\u001b[0m\u001b[0;32m     19\u001b[0m \u001b[1;31m#         print(loss)\u001b[0m\u001b[1;33m\u001b[0m\u001b[1;33m\u001b[0m\u001b[1;33m\u001b[0m\u001b[0m\n\u001b[0;32m     20\u001b[0m         \u001b[1;32mif\u001b[0m\u001b[1;33m(\u001b[0m\u001b[0mbatch_idx\u001b[0m\u001b[1;33m)\u001b[0m\u001b[1;33m%\u001b[0m\u001b[1;36m10\u001b[0m \u001b[1;33m==\u001b[0m \u001b[1;36m0\u001b[0m\u001b[1;33m:\u001b[0m\u001b[1;33m\u001b[0m\u001b[1;33m\u001b[0m\u001b[0m\n",
      "\u001b[1;32mD:\\Python_env\\Anaconda3\\lib\\site-packages\\torch\\autograd\\grad_mode.py\u001b[0m in \u001b[0;36mdecorate_context\u001b[1;34m(*args, **kwargs)\u001b[0m\n\u001b[0;32m     13\u001b[0m         \u001b[1;32mdef\u001b[0m \u001b[0mdecorate_context\u001b[0m\u001b[1;33m(\u001b[0m\u001b[1;33m*\u001b[0m\u001b[0margs\u001b[0m\u001b[1;33m,\u001b[0m \u001b[1;33m**\u001b[0m\u001b[0mkwargs\u001b[0m\u001b[1;33m)\u001b[0m\u001b[1;33m:\u001b[0m\u001b[1;33m\u001b[0m\u001b[1;33m\u001b[0m\u001b[0m\n\u001b[0;32m     14\u001b[0m             \u001b[1;32mwith\u001b[0m \u001b[0mself\u001b[0m\u001b[1;33m:\u001b[0m\u001b[1;33m\u001b[0m\u001b[1;33m\u001b[0m\u001b[0m\n\u001b[1;32m---> 15\u001b[1;33m                 \u001b[1;32mreturn\u001b[0m \u001b[0mfunc\u001b[0m\u001b[1;33m(\u001b[0m\u001b[1;33m*\u001b[0m\u001b[0margs\u001b[0m\u001b[1;33m,\u001b[0m \u001b[1;33m**\u001b[0m\u001b[0mkwargs\u001b[0m\u001b[1;33m)\u001b[0m\u001b[1;33m\u001b[0m\u001b[1;33m\u001b[0m\u001b[0m\n\u001b[0m\u001b[0;32m     16\u001b[0m         \u001b[1;32mreturn\u001b[0m \u001b[0mdecorate_context\u001b[0m\u001b[1;33m\u001b[0m\u001b[1;33m\u001b[0m\u001b[0m\n\u001b[0;32m     17\u001b[0m \u001b[1;33m\u001b[0m\u001b[0m\n",
      "\u001b[1;32mD:\\Python_env\\Anaconda3\\lib\\site-packages\\torch\\optim\\adam.py\u001b[0m in \u001b[0;36mstep\u001b[1;34m(self, closure)\u001b[0m\n\u001b[0;32m    105\u001b[0m                     \u001b[0mdenom\u001b[0m \u001b[1;33m=\u001b[0m \u001b[1;33m(\u001b[0m\u001b[0mmax_exp_avg_sq\u001b[0m\u001b[1;33m.\u001b[0m\u001b[0msqrt\u001b[0m\u001b[1;33m(\u001b[0m\u001b[1;33m)\u001b[0m \u001b[1;33m/\u001b[0m \u001b[0mmath\u001b[0m\u001b[1;33m.\u001b[0m\u001b[0msqrt\u001b[0m\u001b[1;33m(\u001b[0m\u001b[0mbias_correction2\u001b[0m\u001b[1;33m)\u001b[0m\u001b[1;33m)\u001b[0m\u001b[1;33m.\u001b[0m\u001b[0madd_\u001b[0m\u001b[1;33m(\u001b[0m\u001b[0mgroup\u001b[0m\u001b[1;33m[\u001b[0m\u001b[1;34m'eps'\u001b[0m\u001b[1;33m]\u001b[0m\u001b[1;33m)\u001b[0m\u001b[1;33m\u001b[0m\u001b[1;33m\u001b[0m\u001b[0m\n\u001b[0;32m    106\u001b[0m                 \u001b[1;32melse\u001b[0m\u001b[1;33m:\u001b[0m\u001b[1;33m\u001b[0m\u001b[1;33m\u001b[0m\u001b[0m\n\u001b[1;32m--> 107\u001b[1;33m                     \u001b[0mdenom\u001b[0m \u001b[1;33m=\u001b[0m \u001b[1;33m(\u001b[0m\u001b[0mexp_avg_sq\u001b[0m\u001b[1;33m.\u001b[0m\u001b[0msqrt\u001b[0m\u001b[1;33m(\u001b[0m\u001b[1;33m)\u001b[0m \u001b[1;33m/\u001b[0m \u001b[0mmath\u001b[0m\u001b[1;33m.\u001b[0m\u001b[0msqrt\u001b[0m\u001b[1;33m(\u001b[0m\u001b[0mbias_correction2\u001b[0m\u001b[1;33m)\u001b[0m\u001b[1;33m)\u001b[0m\u001b[1;33m.\u001b[0m\u001b[0madd_\u001b[0m\u001b[1;33m(\u001b[0m\u001b[0mgroup\u001b[0m\u001b[1;33m[\u001b[0m\u001b[1;34m'eps'\u001b[0m\u001b[1;33m]\u001b[0m\u001b[1;33m)\u001b[0m\u001b[1;33m\u001b[0m\u001b[1;33m\u001b[0m\u001b[0m\n\u001b[0m\u001b[0;32m    108\u001b[0m \u001b[1;33m\u001b[0m\u001b[0m\n\u001b[0;32m    109\u001b[0m                 \u001b[0mstep_size\u001b[0m \u001b[1;33m=\u001b[0m \u001b[0mgroup\u001b[0m\u001b[1;33m[\u001b[0m\u001b[1;34m'lr'\u001b[0m\u001b[1;33m]\u001b[0m \u001b[1;33m/\u001b[0m \u001b[0mbias_correction1\u001b[0m\u001b[1;33m\u001b[0m\u001b[1;33m\u001b[0m\u001b[0m\n",
      "\u001b[1;31mKeyboardInterrupt\u001b[0m: "
     ]
    }
   ],
   "source": [
    "# model.train()\n",
    "batch_idx = 1\n",
    "epoches = 200\n",
    "for epoch in range(epoches):\n",
    "    batch_idx = 1\n",
    "    model.train()\n",
    "    for line in train_loader:\n",
    "        data = line[0].to(device)\n",
    "        label = line[1].to(device)\n",
    "        output = model(data)\n",
    "    #     print(output.size())\n",
    "    #     print(label.size())\n",
    "#         label = label.squeeze(1)\n",
    "        output = torch.log_softmax(output,dim = 1)\n",
    "        loss = criterion(output, label)\n",
    "        optimizer.zero_grad() #这一步可太TM重要了\n",
    "        loss.backward()\n",
    "        optimizer.step()\n",
    "#         print(loss)\n",
    "        if(batch_idx)%10 == 0:\n",
    "            print('Train Epoch: {} [{}/{} ({:.0f}%)]\\tLoss: {:.6f}'.format(\n",
    "                epoch, batch_idx * len(data), len(train_loader.dataset),\n",
    "                100. * batch_idx / len(train_loader), loss.item()))\n",
    "        batch_idx += 1\n",
    "        \n",
    "    correct = 0\n",
    "    model.eval()\n",
    "    for line in test_loader:\n",
    "        data = line[0].to(device)\n",
    "        label = line[1].to(device)\n",
    "        output = model(data)\n",
    "        output = torch.log_softmax(output,dim = 1)\n",
    "        pred = output.max(1, keepdim=True)[1]# 找到概率最大的下标\n",
    "        correct += pred.eq(label.view_as(pred)).sum().item()\n",
    "    print(\"测试集上准确率为:\",(correct/50)*100,\"%\")"
   ]
  },
  {
   "cell_type": "code",
   "execution_count": null,
   "metadata": {},
   "outputs": [],
   "source": []
  },
  {
   "cell_type": "code",
   "execution_count": null,
   "metadata": {},
   "outputs": [],
   "source": []
  },
  {
   "cell_type": "code",
   "execution_count": null,
   "metadata": {},
   "outputs": [],
   "source": []
  },
  {
   "cell_type": "code",
   "execution_count": null,
   "metadata": {},
   "outputs": [],
   "source": []
  },
  {
   "cell_type": "code",
   "execution_count": null,
   "metadata": {},
   "outputs": [],
   "source": []
  }
 ],
 "metadata": {
  "kernelspec": {
   "display_name": "Python 3",
   "language": "python",
   "name": "python3"
  },
  "language_info": {
   "codemirror_mode": {
    "name": "ipython",
    "version": 3
   },
   "file_extension": ".py",
   "mimetype": "text/x-python",
   "name": "python",
   "nbconvert_exporter": "python",
   "pygments_lexer": "ipython3",
   "version": "3.8.3"
  }
 },
 "nbformat": 4,
 "nbformat_minor": 4
}
