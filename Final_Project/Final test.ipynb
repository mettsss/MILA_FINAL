{
 "cells": [
  {
   "cell_type": "code",
   "execution_count": 1,
   "metadata": {
    "scrolled": true
   },
   "outputs": [
    {
     "name": "stdout",
     "output_type": "stream",
     "text": [
      "True\n",
      "cuda:0\n"
     ]
    }
   ],
   "source": [
    "from ghostnet.ghost_net import ghost_net\n",
    "# from keras.datasets import mnist\n",
    "import pandas as pd\n",
    "import numpy as np\n",
    "import torch\n",
    "from torch.nn.utils.rnn import pack_padded_sequence\n",
    "from torch.utils.data import Dataset\n",
    "from torch.utils.data import DataLoader\n",
    "from torch import nn,optim\n",
    "from torch.autograd import Variable\n",
    "import torch.nn.functional as F\n",
    "import matplotlib.pyplot as plt\n",
    "import SimpleITK as sitk\n",
    "from sklearn.decomposition import PCA\n",
    "from keras.preprocessing.image import ImageDataGenerator\n",
    "import os\n",
    "\n",
    "# 检验GPU是否可用\n",
    "print(torch.cuda.is_available())\n",
    "device = torch.device(\"cuda:0\" if torch.cuda.is_available() else \"cpu\")\n",
    "print(device)"
   ]
  },
  {
   "cell_type": "code",
   "execution_count": 2,
   "metadata": {},
   "outputs": [],
   "source": [
    "def dataLoad(path1, path2):\n",
    "    paths1 = os.listdir(path1)\n",
    "    paths2 = os.listdir(path2)\n",
    "    dataset = []\n",
    "    labelset = []\n",
    "    \n",
    "    for file in paths1:\n",
    "        if file.find('mhd')>=0:\n",
    "            filepath = os.path.join(path1, file)\n",
    "            data = sitk.GetArrayFromImage(sitk.ReadImage(filepath))\n",
    "            data = data.reshape((1,256,256))\n",
    "            dataset.append(data)\n",
    "            labelset.append(1)\n",
    "            \n",
    "    for file in paths2:\n",
    "        if file.find('mhd')>=0:\n",
    "            filepath = os.path.join(path2, file)\n",
    "            data = sitk.GetArrayFromImage(sitk.ReadImage(filepath))\n",
    "            data = data.reshape((1,256,256))\n",
    "            dataset.append(data)\n",
    "            labelset.append(0)\n",
    "        \n",
    "    dataset = np.array(dataset)\n",
    "    labelset = np.array(labelset)\n",
    "    return dataset, labelset"
   ]
  },
  {
   "cell_type": "code",
   "execution_count": 3,
   "metadata": {},
   "outputs": [
    {
     "name": "stdout",
     "output_type": "stream",
     "text": [
      "(378, 1, 256, 256)\n",
      "(50, 1, 256, 256)\n",
      "(378, 256, 256, 1)\n"
     ]
    }
   ],
   "source": [
    "train_data, train_label = dataLoad('Training/Diseased', 'Training/Healthy')\n",
    "test_data, test_label = dataLoad('Testing1/Diseased', 'Testing1/Healthy')\n",
    "\n",
    "print(train_data.shape)\n",
    "print(test_data.shape)\n",
    "\n",
    "train_data = train_data.reshape((378,256,256,1))\n",
    "print(train_data.shape)\n"
   ]
  },
  {
   "cell_type": "raw",
   "metadata": {},
   "source": [
    "# data augmentation\n",
    "datagen = ImageDataGenerator(horizontal_flip = True)\n",
    "\n",
    "for X_batch, y_batch in datagen.flow(train_data.reshape((378,256,256)), train_label, batch_size = 9):\n",
    "    for i in range(0, 9):\n",
    "        plt.subplot(330 + 1 + i)\n",
    "        plt.imshow(X_batch[i])\n",
    "    plt.show()\n",
    "    break"
   ]
  },
  {
   "cell_type": "raw",
   "metadata": {},
   "source": [
    "pca_data = []\n",
    "for i in range(378):\n",
    "    pca_data.append(train_data[i][0].flatten())\n",
    "pca = PCA(n_components=0.5)   \n",
    "pca.fit(pca_data)\n",
    "pca_data = pca.transform(pca_data)\n",
    "print(pca_data.shape)\n",
    "train_data = pca.inverse_transform(pca_data).reshape((378,1,256,256))\n",
    "print(train_data.shape)"
   ]
  },
  {
   "cell_type": "raw",
   "metadata": {},
   "source": [
    "import  tensorflow as  tf\n",
    "\n",
    "#加载cifar-10数据集\n",
    "def dataLoad():\n",
    "    (train_data, train_label), (test_data, test_label) =  tf.keras.datasets.cifar10.load_data()\n",
    "    #数据集进行归一化\n",
    "    train_data=train_data/255\n",
    "    test_data=test_data/255\n",
    "    #将标签数据集从数组类型array修改成整形类型int\n",
    "    train_label.astype(np.int)\n",
    "    test_label.astype(np.int)\n",
    "    return (train_data, train_label), (test_data, test_label)"
   ]
  },
  {
   "cell_type": "raw",
   "metadata": {},
   "source": [
    "(train_data, train_label), (test_data, test_label) = dataLoad()"
   ]
  },
  {
   "cell_type": "code",
   "execution_count": 4,
   "metadata": {},
   "outputs": [],
   "source": [
    "train_data = train_data.reshape((378,1,256,256))\n",
    "test_data = test_data.reshape((-1,1,256,256))\n",
    "train_data = torch.FloatTensor(train_data)\n",
    "test_data = torch.FloatTensor(test_data)\n",
    "train_label = torch.LongTensor(train_label)\n",
    "test_label = torch.LongTensor(test_label)"
   ]
  },
  {
   "cell_type": "code",
   "execution_count": 5,
   "metadata": {},
   "outputs": [
    {
     "data": {
      "text/plain": [
       "torch.Size([50])"
      ]
     },
     "execution_count": 5,
     "metadata": {},
     "output_type": "execute_result"
    }
   ],
   "source": [
    "test_label.shape"
   ]
  },
  {
   "cell_type": "code",
   "execution_count": 6,
   "metadata": {},
   "outputs": [],
   "source": [
    "class MyDataset(Dataset):\n",
    "    \n",
    "    # 初始化\n",
    "    def __init__(self, pics, lable):\n",
    "        # 读入数据\n",
    "        self.data = pics\n",
    "        self.lable = lable\n",
    "        \n",
    "    # 返回df的长度\n",
    "    def __len__(self):\n",
    "        return len(self.data)\n",
    "    \n",
    "    # 获取第idx+1列的数据\n",
    "    def __getitem__(self, idx):\n",
    "        return self.data[idx],self.lable[idx]"
   ]
  },
  {
   "cell_type": "code",
   "execution_count": 7,
   "metadata": {},
   "outputs": [],
   "source": [
    "my_dataset_train = MyDataset(train_data, train_label)\n",
    "my_dataset_test = MyDataset(test_data, test_label)\n",
    "train_loader = DataLoader(dataset = my_dataset_train, batch_size = 8, shuffle = True)\n",
    "test_loader = DataLoader(dataset = my_dataset_test, batch_size = 8, shuffle = True)"
   ]
  },
  {
   "cell_type": "code",
   "execution_count": 8,
   "metadata": {},
   "outputs": [],
   "source": [
    "model = ghost_net(width_mult=1.0,num_classes=2).to(device)\n",
    "# model = Net().to(device)\n",
    "# optimizer = optim.Adam(model.parameters(),lr=0.001)  # 优化方式为mini-batch momentum-SGD，并采用L2正则化（权重衰减）\n",
    "weights = torch.Tensor([2,1]).to(device) #\n",
    "optimizer = optim.SGD(model.parameters(), lr=0.001, momentum=0.9)\n",
    "criterion = nn.CrossEntropyLoss(weight=weights)"
   ]
  },
  {
   "cell_type": "code",
   "execution_count": 12,
   "metadata": {
    "scrolled": false
   },
   "outputs": [],
   "source": [
    "num_epochs = 10\n",
    "n_total_steps = len(train_loader)\n",
    "LossList = [] # 记录每一个epoch的loss\n",
    "AccuryList = [] # 每一个epoch的accury\n",
    "for epoch in range(num_epochs):\n",
    "    # -------\n",
    "    # 开始训练\n",
    "    # -------\n",
    "    model.train() # 切换为训练模型\n",
    "    totalLoss = 0\n",
    "    for i, (images, labels) in enumerate(train_loader):\n",
    "        images = images.to(device) # 图片大小转换\n",
    "        labels = labels.to(device)\n",
    "        # 正向传播以及损失的求取\n",
    "        outputs = model(images)\n",
    "#         labels = labels.squeeze(1)\n",
    "        loss = criterion(outputs, labels)\n",
    "        totalLoss = totalLoss + loss.item()\n",
    "        # 反向传播\n",
    "        optimizer.zero_grad() # 梯度清空\n",
    "        loss.backward() # 反向传播\n",
    "        optimizer.step() # 权重更新\n",
    "        if (i+1) % 10 == 0:\n",
    "            print('Epoch [{}/{}], Step [{}/{}], Loss: {:.4f}'.format(epoch+1, num_epochs, i+1, n_total_steps, totalLoss/(i+1)))\n",
    "    LossList.append(totalLoss/(i+1))\n",
    "    # ---------\n",
    "    # 开始测试\n",
    "    # ---------\n",
    "    model.eval()\n",
    "    with torch.no_grad():\n",
    "        correct = 0\n",
    "        total = 0\n",
    "        ones = 0\n",
    "        for images, labels in test_loader:\n",
    "            images = images.to(device)\n",
    "            labels = labels.to(device)\n",
    "            outputs = model(images)\n",
    "            _, predicted = torch.max(outputs.data, 1) # 预测的结果\n",
    "            ones += predicted.sum()\n",
    "            total += labels.size(0)\n",
    "            correct += (predicted == labels).sum().item()\n",
    "        print(\"判断为1的总数为:\", ones.item())\n",
    "        acc = 100.0 * correct / total # 在测试集上总的准确率\n",
    "        AccuryList.append(acc)\n",
    "        print('Accuracy of the network on the {} test images: {} %'.format(total, acc))\n",
    "print(\"模型训练完成\")"
   ]
  },
  {
   "cell_type": "code",
   "execution_count": 9,
   "metadata": {},
   "outputs": [],
   "source": [
    "model = torch.load('GhostNet.pkl')"
   ]
  },
  {
   "cell_type": "code",
   "execution_count": 10,
   "metadata": {},
   "outputs": [],
   "source": [
    "'''\n",
    "将label转换为 ROC 需要准备的格式\n",
    "'''\n",
    "test_y = np.zeros((50,2))\n",
    "for i, label in enumerate(test_label):\n",
    "    test_y[i,label] = 1"
   ]
  },
  {
   "cell_type": "code",
   "execution_count": 11,
   "metadata": {},
   "outputs": [],
   "source": [
    "predicted_digit = model(test_data.cuda())"
   ]
  },
  {
   "cell_type": "code",
   "execution_count": 12,
   "metadata": {},
   "outputs": [],
   "source": [
    "_, predicted = torch.max(predicted_digit, 1)"
   ]
  },
  {
   "cell_type": "code",
   "execution_count": 18,
   "metadata": {},
   "outputs": [],
   "source": [
    "from sklearn.metrics import confusion_matrix\n",
    "C = confusion_matrix(test_label, predicted.cpu())"
   ]
  },
  {
   "cell_type": "code",
   "execution_count": 19,
   "metadata": {},
   "outputs": [
    {
     "data": {
      "text/plain": [
       "Text(30.5, 0.5, 'true')"
      ]
     },
     "execution_count": 19,
     "metadata": {},
     "output_type": "execute_result"
    },
    {
     "data": {
      "image/png": "[encoded data removed]",
      "text/plain": [
       "<Figure size 432x288 with 2 Axes>"
      ]
     },
     "metadata": {},
     "output_type": "display_data"
    }
   ],
   "source": [
    "import seaborn as sns\n",
    "sns.set()\n",
    "f,ax=plt.subplots()\n",
    "sns.heatmap(C,annot=True,ax=ax) #画热力图\n",
    "ax.set_title('confusion matrix') #标题\n",
    "ax.set_xlabel('predict') #x轴\n",
    "ax.set_ylabel('true') #y轴"
   ]
  },
  {
   "cell_type": "code",
   "execution_count": 22,
   "metadata": {},
   "outputs": [],
   "source": [
    "from sklearn.metrics import roc_auc_score\n",
    "from sklearn.metrics import roc_curve, auc\n",
    "fpr = dict()\n",
    "tpr = dict()\n",
    "roc_auc = dict()\n",
    "test_y = test_y\n",
    "predicted = predicted_digit.cpu().detach().numpy()\n",
    "for i in range(2):\n",
    "    fpr[i], tpr[i], _ = roc_curve(test_y[:, i], predicted[:, i])\n",
    "    roc_auc[i] = auc(fpr[i], tpr[i])\n",
    "\n",
    "# Compute micro-average ROC curve and ROC area\n",
    "fpr[\"micro\"], tpr[\"micro\"], _ = roc_curve(test_y.ravel(), predicted.ravel())\n",
    "roc_auc[\"micro\"] = auc(fpr[\"micro\"], tpr[\"micro\"])"
   ]
  },
  {
   "cell_type": "code",
   "execution_count": 23,
   "metadata": {},
   "outputs": [
    {
     "data": {
      "text/plain": [
       "{0: 0.7719298245614035, 1: 0.7828947368421052, 'micro': 0.8672}"
      ]
     },
     "execution_count": 23,
     "metadata": {},
     "output_type": "execute_result"
    }
   ],
   "source": [
    "roc_auc"
   ]
  },
  {
   "cell_type": "code",
   "execution_count": 24,
   "metadata": {},
   "outputs": [
    {
     "data": {
      "image/png": "[encoded data removed]",
      "text/plain": [
       "<Figure size 432x288 with 1 Axes>"
      ]
     },
     "metadata": {},
     "output_type": "display_data"
    }
   ],
   "source": [
    "plt.figure()\n",
    "lw = 2\n",
    "plt.plot(\n",
    "    fpr[1],\n",
    "    tpr[1],\n",
    "    color=\"darkorange\",\n",
    "    lw=lw,\n",
    "    label=\"ROC curve (area = %0.2f)\" % roc_auc[1],\n",
    ")\n",
    "plt.plot([0, 1], [0, 1], color=\"navy\", lw=lw, linestyle=\"--\")\n",
    "plt.xlim([0.0, 1.0])\n",
    "plt.ylim([0.0, 1.05])\n",
    "plt.xlabel(\"False Positive Rate\")\n",
    "plt.ylabel(\"True Positive Rate\")\n",
    "plt.title(\"Receiver operating characteristic example\")\n",
    "plt.legend(loc=\"lower right\")\n",
    "plt.show()"
   ]
  },
  {
   "cell_type": "code",
   "execution_count": 25,
   "metadata": {},
   "outputs": [
    {
     "name": "stderr",
     "output_type": "stream",
     "text": [
      "<ipython-input-25-c1f3bd1088dc>:11: DeprecationWarning: scipy.interp is deprecated and will be removed in SciPy 2.0.0, use numpy.interp instead\n",
      "  mean_tpr += interp(all_fpr, fpr[i], tpr[i])\n"
     ]
    },
    {
     "data": {
      "image/png": "[encoded data removed]",
      "text/plain": [
       "<Figure size 432x288 with 1 Axes>"
      ]
     },
     "metadata": {},
     "output_type": "display_data"
    }
   ],
   "source": [
    "from scipy import interp\n",
    "from itertools import cycle\n",
    "\n",
    "# First aggregate all false positive rates\n",
    "n_classes = 2\n",
    "all_fpr = np.unique(np.concatenate([fpr[i] for i in range(n_classes)]))\n",
    "\n",
    "# Then interpolate all ROC curves at this points\n",
    "mean_tpr = np.zeros_like(all_fpr)\n",
    "for i in range(n_classes):\n",
    "    mean_tpr += interp(all_fpr, fpr[i], tpr[i])\n",
    "\n",
    "# Finally average it and compute AUC\n",
    "mean_tpr /= n_classes\n",
    "\n",
    "fpr[\"macro\"] = all_fpr\n",
    "tpr[\"macro\"] = mean_tpr\n",
    "roc_auc[\"macro\"] = auc(fpr[\"macro\"], tpr[\"macro\"])\n",
    "\n",
    "# Plot all ROC curves\n",
    "plt.figure()\n",
    "plt.plot(\n",
    "    fpr[\"micro\"],\n",
    "    tpr[\"micro\"],\n",
    "    label=\"micro-average ROC curve (area = {0:0.2f})\".format(roc_auc[\"micro\"]),\n",
    "    color=\"deeppink\",\n",
    "    linestyle=\":\",\n",
    "    linewidth=4,\n",
    ")\n",
    "\n",
    "plt.plot(\n",
    "    fpr[\"macro\"],\n",
    "    tpr[\"macro\"],\n",
    "    label=\"macro-average ROC curve (area = {0:0.2f})\".format(roc_auc[\"macro\"]),\n",
    "    color=\"navy\",\n",
    "    linestyle=\":\",\n",
    "    linewidth=4,\n",
    ")\n",
    "\n",
    "colors = cycle([\"aqua\", \"darkorange\", \"cornflowerblue\"])\n",
    "for i, color in zip(range(n_classes), colors):\n",
    "    plt.plot(\n",
    "        fpr[i],\n",
    "        tpr[i],\n",
    "        color=color,\n",
    "        lw=lw,\n",
    "        label=\"ROC curve of class {0} (area = {1:0.2f})\".format(i, roc_auc[i]),\n",
    "    )\n",
    "\n",
    "plt.plot([0, 1], [0, 1], \"k--\", lw=lw)\n",
    "plt.xlim([0.0, 1.0])\n",
    "plt.ylim([0.0, 1.05])\n",
    "plt.xlabel(\"False Positive Rate\")\n",
    "plt.ylabel(\"True Positive Rate\")\n",
    "plt.title(\"Some extension of Receiver operating characteristic to multiclass\")\n",
    "plt.legend(loc=\"lower right\")\n",
    "plt.show()"
   ]
  },
  {
   "cell_type": "code",
   "execution_count": 37,
   "metadata": {},
   "outputs": [],
   "source": [
    "torch.save(model, 'GhostNet.pkl') "
   ]
  },
  {
   "cell_type": "code",
   "execution_count": null,
   "metadata": {},
   "outputs": [],
   "source": []
  },
  {
   "cell_type": "code",
   "execution_count": null,
   "metadata": {},
   "outputs": [],
   "source": []
  },
  {
   "cell_type": "raw",
   "metadata": {
    "scrolled": true
   },
   "source": [
    "# model.train()\n",
    "batch_idx = 1\n",
    "epoches = 200\n",
    "for epoch in range(epoches):\n",
    "    batch_idx = 1\n",
    "    model.train()\n",
    "    for line in train_loader:\n",
    "        data = line[0].to(device)\n",
    "        label = line[1].to(device)\n",
    "        output = model(data)\n",
    "    #     print(output.size())\n",
    "    #     print(label.size())\n",
    "#         label = label.squeeze(1)\n",
    "        output = torch.log_softmax(output,dim = 1)\n",
    "        loss = criterion(output, label)\n",
    "        optimizer.zero_grad() #这一步可太TM重要了\n",
    "        loss.backward()\n",
    "        optimizer.step()\n",
    "#         print(loss)\n",
    "        if(batch_idx)%10 == 0:\n",
    "            print('Train Epoch: {} [{}/{} ({:.0f}%)]\\tLoss: {:.6f}'.format(\n",
    "                epoch, batch_idx * len(data), len(train_loader.dataset),\n",
    "                100. * batch_idx / len(train_loader), loss.item()))\n",
    "        batch_idx += 1\n",
    "        \n",
    "    correct = 0\n",
    "    model.eval()\n",
    "    for line in test_loader:\n",
    "        data = line[0].to(device)\n",
    "        label = line[1].to(device)\n",
    "        output = model(data)\n",
    "        output = torch.log_softmax(output,dim = 1)\n",
    "        pred = output.max(1, keepdim=True)[1]# 找到概率最大的下标\n",
    "        correct += pred.eq(label.view_as(pred)).sum().item()\n",
    "    print(\"测试集上准确率为:\",(correct/50)*100,\"%\")"
   ]
  }
 ],
 "metadata": {
  "kernelspec": {
   "display_name": "Python 3",
   "language": "python",
   "name": "python3"
  },
  "language_info": {
   "codemirror_mode": {
    "name": "ipython",
    "version": 3
   },
   "file_extension": ".py",
   "mimetype": "text/x-python",
   "name": "python",
   "nbconvert_exporter": "python",
   "pygments_lexer": "ipython3",
   "version": "3.8.3"
  }
 },
 "nbformat": 4,
 "nbformat_minor": 4
}
